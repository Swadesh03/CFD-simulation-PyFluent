{
 "cells": [
  {
   "cell_type": "markdown",
   "id": "b6dbff2b-7696-4913-b1c3-044e2cb0bfe8",
   "metadata": {},
   "source": [
    "The following notebook presents a CFD study of the flow in a diffuser of 0 mm (sudden expansion) using Watertight meshing and Fluent solver -- using Python scripting in ANSYS PyFluent "
   ]
  },
  {
   "cell_type": "markdown",
   "id": "1aeb18f8-2f4d-404f-8720-a6c4a48192f6",
   "metadata": {},
   "source": [
    "**Importing the required files**"
   ]
  },
  {
   "cell_type": "code",
   "execution_count": 16,
   "id": "cb7bdcf7-5129-4ecd-887a-c2740946c922",
   "metadata": {},
   "outputs": [],
   "source": [
    "import ansys.fluent.core as pyfluent\n",
    "from matplotlib import pyplot as plt\n",
    "from matplotlib import image\n",
    "%matplotlib inline"
   ]
  },
  {
   "cell_type": "markdown",
   "id": "1d3e569a-9865-4ab7-962b-cd4bd5366748",
   "metadata": {},
   "source": [
    "**Starting the meshing session**"
   ]
  },
  {
   "cell_type": "code",
   "execution_count": 17,
   "id": "92df2880-11e3-404f-8ecc-e77c027dd720",
   "metadata": {},
   "outputs": [
    {
     "name": "stderr",
     "output_type": "stream",
     "text": [
      "pyfluent.launcher WARNING: PyFluent Watchdog did not initialize correctly, proceeding without it...\n"
     ]
    }
   ],
   "source": [
    "# Open a meshing session------------------------------\n",
    "meshing_session = pyfluent.launch_fluent(precision = \"double\", processor_count = 4, mode = \"meshing\", show_gui = True)\n",
    "workflow = meshing_session.workflow\n",
    "meshing = meshing_session.meshing"
   ]
  },
  {
   "cell_type": "markdown",
   "id": "7dadfffd-56bc-4d8c-857c-8d7411d839da",
   "metadata": {},
   "source": [
    "Setting the Watertight meshing workflow"
   ]
  },
  {
   "cell_type": "code",
   "execution_count": 18,
   "id": "29c3bca4-e87c-4589-8a04-17ef8caa0567",
   "metadata": {},
   "outputs": [],
   "source": [
    "# The meshing workflow is selected as the \"Watertight Meshing Workflow\"\n",
    "workflow.InitializeWorkflow(WorkflowType = r'Watertight Geometry')\n",
    "# The global scale setting\n",
    "meshing.GlobalSettings.LengthUnit.set_state(r'mm')\n",
    "meshing.GlobalSettings.AreaUnit.set_state(r'mm^2')\n",
    "meshing.GlobalSettings.VolumeUnit.set_state(r'mm^3')"
   ]
  },
  {
   "cell_type": "markdown",
   "id": "32fcd8e0-ba7e-4a46-8557-7d22cbbb01ef",
   "metadata": {},
   "source": [
    "Importing geometry"
   ]
  },
  {
   "cell_type": "code",
   "execution_count": 19,
   "id": "73572c5d-72ad-4456-a7d0-757d13a255c6",
   "metadata": {},
   "outputs": [
    {
     "data": {
      "text/plain": [
       "True"
      ]
     },
     "execution_count": 19,
     "metadata": {},
     "output_type": "execute_result"
    }
   ],
   "source": [
    "workflow.TaskObject['Import Geometry'].Arguments.set_state({r'FileName': r'diffuser_80mm.scdoc',})\n",
    "workflow.TaskObject['Import Geometry'].Execute()"
   ]
  },
  {
   "cell_type": "markdown",
   "id": "66bb9507-fc8b-429c-be6d-85023da222db",
   "metadata": {},
   "source": [
    "Local sizing - adding the BOIs in the geometry"
   ]
  },
  {
   "cell_type": "code",
   "execution_count": 20,
   "id": "52ce62aa-edc2-49cb-89d5-abbea0f528d2",
   "metadata": {},
   "outputs": [
    {
     "data": {
      "text/plain": [
       "\"\\nworkflow.TaskObject['Add Local Sizing'].Arguments.set_state({r'AddChild': r'yes',r'BOIExecution': r'Body Of Influence',r'BOIFaceLabelList':                                                              [r'boi_2-solid'],r'BOISize': 1,})\\nworkflow.TaskObject['Add Local Sizing'].AddChildAndUpdate()  # executing the BOI - 2\\n\""
      ]
     },
     "execution_count": 20,
     "metadata": {},
     "output_type": "execute_result"
    }
   ],
   "source": [
    "#local sizing- setting up Body of Infulence for refining the mesh  ------------------------------------------\n",
    "# 1st BOI\n",
    "workflow.TaskObject['Add Local Sizing'].Arguments.set_state({r'AddChild': r'yes',r'BOIExecution': r'Body Of Influence',r'BOIFaceLabelList': \\\n",
    "                                                             [r'boi_1-solid'],r'BOISize': 2,})\n",
    "workflow.TaskObject['Add Local Sizing'].AddChildAndUpdate()   # executing the BOI - 1\n",
    "# 2nd BOI\n",
    "'''\n",
    "workflow.TaskObject['Add Local Sizing'].Arguments.set_state({r'AddChild': r'yes',r'BOIExecution': r'Body Of Influence',r'BOIFaceLabelList': \\\n",
    "                                                             [r'boi_2-solid'],r'BOISize': 1,})\n",
    "workflow.TaskObject['Add Local Sizing'].AddChildAndUpdate()  # executing the BOI - 2\n",
    "'''"
   ]
  },
  {
   "cell_type": "markdown",
   "id": "e4438429-4bba-4913-bdc4-c7c99022a91e",
   "metadata": {},
   "source": [
    "The surface meshing"
   ]
  },
  {
   "cell_type": "code",
   "execution_count": 21,
   "id": "877e7cdc-e26a-4aad-ad05-331350d962bd",
   "metadata": {},
   "outputs": [
    {
     "data": {
      "text/plain": [
       "True"
      ]
     },
     "execution_count": 21,
     "metadata": {},
     "output_type": "execute_result"
    }
   ],
   "source": [
    "# -------Surface mesh --- Cells per gap, Curvature Normal angle, max size, min size ---------------------------------------\n",
    "workflow.TaskObject['Generate the Surface Mesh'].Arguments.set_state({r'CFDSurfaceMeshControls': {r'CellsPerGap': 5,r'CurvatureNormalAngle': \\\n",
    "                                                                                                  18,r'MaxSize': 10, \\\n",
    "                                                                                                  r'MinSize': 2.5,},})\n",
    "workflow.TaskObject['Generate the Surface Mesh'].Execute()\n"
   ]
  },
  {
   "cell_type": "markdown",
   "id": "b730ff35-19b1-4852-93c4-87f79d66b15f",
   "metadata": {},
   "source": [
    "Describe geometry task"
   ]
  },
  {
   "cell_type": "code",
   "execution_count": 22,
   "id": "0f2fb814-d175-44c4-a496-4efac9f8e75c",
   "metadata": {},
   "outputs": [
    {
     "data": {
      "text/plain": [
       "True"
      ]
     },
     "execution_count": 22,
     "metadata": {},
     "output_type": "execute_result"
    }
   ],
   "source": [
    "workflow.TaskObject['Describe Geometry'].UpdateChildTasks(SetupTypeChanged=False)\n",
    "workflow.TaskObject['Describe Geometry'].Arguments.set_state({r'SetupType': r'The geometry consists of only fluid regions with no voids',})\n",
    "workflow.TaskObject['Describe Geometry'].UpdateChildTasks(SetupTypeChanged=True)\n",
    "workflow.TaskObject['Describe Geometry'].Execute()"
   ]
  },
  {
   "cell_type": "markdown",
   "id": "1dcf4079-daaa-4250-884b-b8a0792c52f0",
   "metadata": {},
   "source": [
    "Update boundaries"
   ]
  },
  {
   "cell_type": "code",
   "execution_count": 23,
   "id": "d147f407-e03f-483c-9023-7e1d3ba8a75d",
   "metadata": {},
   "outputs": [
    {
     "data": {
      "text/plain": [
       "True"
      ]
     },
     "execution_count": 23,
     "metadata": {},
     "output_type": "execute_result"
    }
   ],
   "source": [
    "workflow.TaskObject['Update Boundaries'].Execute()\n",
    "workflow.TaskObject['Update Regions'].Execute()"
   ]
  },
  {
   "cell_type": "markdown",
   "id": "5aff3dc6-7df1-44cc-820c-d1c30a441dd2",
   "metadata": {},
   "source": [
    "Add Boundary layers"
   ]
  },
  {
   "cell_type": "code",
   "execution_count": 24,
   "id": "cd819034-193a-4a7f-825c-216c9ab5db9d",
   "metadata": {},
   "outputs": [
    {
     "data": {
      "text/plain": [
       "True"
      ]
     },
     "execution_count": 24,
     "metadata": {},
     "output_type": "execute_result"
    }
   ],
   "source": [
    "# using last ratio method, changing the number of layers to 5, first height - 0.5 mm, transition ratio - 0.2, other setting default\n",
    "workflow.TaskObject['Add Boundary Layers'].Arguments.set_state({r'FirstHeight': 0.5,r'LocalPrismPreferences': \\\n",
    "                                                                {r'Continuous': r'Stair Step',},r'NumberOfLayers': 5, \\\n",
    "                                                                r'OffsetMethodType': r'last-ratio',r'TransitionRatio': 0.2,})\n",
    "workflow.TaskObject['Add Boundary Layers'].AddChildAndUpdate()\n",
    "# using smooth transition method, changing the number of layers to 5, keeping the other settings ad default\n",
    "#workflow.TaskObject['Add Boundary Layers'].Arguments.set_state({r'LocalPrismPreferences': {r'Continuous': r'Stair Step',},r'NumberOfLayers': 5,})\n",
    "#workflow.TaskObject['Add Boundary Layers'].AddChildAndUpdate()"
   ]
  },
  {
   "cell_type": "markdown",
   "id": "aab93a38-acdd-4ecb-ae32-554789ad48e9",
   "metadata": {},
   "source": [
    "Generate the volume mesh"
   ]
  },
  {
   "cell_type": "code",
   "execution_count": 25,
   "id": "4b57f90c-9710-496a-aab1-8b915e6bdee5",
   "metadata": {},
   "outputs": [
    {
     "data": {
      "text/plain": [
       "True"
      ]
     },
     "execution_count": 25,
     "metadata": {},
     "output_type": "execute_result"
    }
   ],
   "source": [
    "# poly hexcore as volume fill with method, keeping the minimum size default, maximum size as 4 mm\n",
    "workflow.TaskObject['Generate the Volume Mesh'].Arguments.set_state({r'VolumeFill': r'poly-hexcore', \\\n",
    "                                                                     r'VolumeFillControls': {r'HexMaxCellLength': 4,},})\n",
    "workflow.TaskObject['Generate the Volume Mesh'].Execute()"
   ]
  },
  {
   "cell_type": "markdown",
   "id": "3f63da4a-f106-40ba-bdf4-9b7a119ce233",
   "metadata": {},
   "source": [
    "Inserting a new task - to extrude the volume mesh at the outlet -- to reduce the backflow"
   ]
  },
  {
   "cell_type": "code",
   "execution_count": 26,
   "id": "fe6a9f6c-7398-4672-bdec-3be7d740b0aa",
   "metadata": {},
   "outputs": [
    {
     "data": {
      "text/plain": [
       "False"
      ]
     },
     "execution_count": 26,
     "metadata": {},
     "output_type": "execute_result"
    }
   ],
   "source": [
    "workflow.TaskObject['Generate the Volume Mesh'].InsertNextTask(CommandName=r'ExtrudeVolumeMesh')"
   ]
  },
  {
   "cell_type": "code",
   "execution_count": 27,
   "id": "42d38883-0f56-46f3-980f-903298971a50",
   "metadata": {},
   "outputs": [],
   "source": [
    "workflow.TaskObject['Extrude Volume Mesh'].Arguments.set_state({r'ExternalBoundaryZoneList': [r'outlet'],r'FirstHeight': 1.007057458670362, \\\n",
    "                                                                r'GrowthRate': 1.1,r'MExControlName': r'extrude_1',r'Method': r'Total Height',\\\n",
    "                                                                r'NumberofLayers': 10,r'TotalHeight': 100,r'VMExtrudePreferences': \\\n",
    "                                                                {r'BiasMethod': r'_ ___ _______ _______________',r'MergeCellZones': True, \\\n",
    "                                                                 r'ShowVMExtrudePreferences': False,},r'ZoneLocation': [r'1', r'1',\\\n",
    "                                                                r'-0.039999999', r'0', r'1', r'0.039999999', r'0.025', r'outlet'],})"
   ]
  },
  {
   "cell_type": "code",
   "execution_count": 28,
   "id": "4df7d4f0-8357-4751-9875-78bba915c9ac",
   "metadata": {},
   "outputs": [
    {
     "data": {
      "text/plain": [
       "True"
      ]
     },
     "execution_count": 28,
     "metadata": {},
     "output_type": "execute_result"
    }
   ],
   "source": [
    "workflow.TaskObject['Extrude Volume Mesh'].AddChildAndUpdate()"
   ]
  },
  {
   "cell_type": "markdown",
   "id": "bb3574ad-15ae-4179-a65d-8ed4c3b28227",
   "metadata": {},
   "source": [
    "**Switching to solver mode**"
   ]
  },
  {
   "cell_type": "code",
   "execution_count": 29,
   "id": "426fa29f-536f-471c-a39b-d8b8133b6da7",
   "metadata": {},
   "outputs": [],
   "source": [
    "solver = meshing_session.switch_to_solver()"
   ]
  },
  {
   "cell_type": "markdown",
   "id": "aea2bcfd-432e-4878-8d6f-203cd9921f00",
   "metadata": {},
   "source": [
    "changing the scale of geometry and check the mesh"
   ]
  },
  {
   "cell_type": "code",
   "execution_count": 30,
   "id": "189e827d-797a-4c76-a591-12e4c1e944d7",
   "metadata": {},
   "outputs": [
    {
     "data": {
      "text/plain": [
       "'*the-non-printing-object*'"
      ]
     },
     "execution_count": 30,
     "metadata": {},
     "output_type": "execute_result"
    }
   ],
   "source": [
    "solver.tui.define.units(\"length\",\"mm\")\n",
    "solver.mesh.check()"
   ]
  },
  {
   "cell_type": "markdown",
   "id": "9529de2f-dcc3-4335-aa48-75b85dbd5397",
   "metadata": {},
   "source": [
    "Viscous model selection"
   ]
  },
  {
   "cell_type": "code",
   "execution_count": 31,
   "id": "49a11355-fcb1-4fae-a94c-0bef8b80a3d8",
   "metadata": {},
   "outputs": [
    {
     "data": {
      "text/plain": [
       "{'model': 'k-omega',\n",
       " 'options': {'curvature_correction': False,\n",
       "  'corner_flow_correction': False,\n",
       "  'production_kato_launder': False},\n",
       " 'k_omega_model': 'sst',\n",
       " 'k_omega_options': {'kw_low_re_correction': False},\n",
       " 'transition_module': 'none',\n",
       " 'turbulence_expert': {'kato_launder_model': False,\n",
       "  'production_limiter': {'enable_prod_limiter': True, 'clip_factor': 10.0},\n",
       "  'turb_non_newtonian': False,\n",
       "  'restore_sst_v61': False},\n",
       " 'user_defined': {'turb_visc_func': 'none'}}"
      ]
     },
     "execution_count": 31,
     "metadata": {},
     "output_type": "execute_result"
    }
   ],
   "source": [
    "solver.setup.models.viscous()"
   ]
  },
  {
   "cell_type": "markdown",
   "id": "18964231-0e54-47aa-a088-0a692cc1f9e8",
   "metadata": {},
   "source": [
    "SST k-omega model is already seleted, so no need to change it"
   ]
  },
  {
   "cell_type": "markdown",
   "id": "76332b2e-1dbe-4fb9-ac12-5f7e5bd6d748",
   "metadata": {},
   "source": [
    "Assinging the material in the fluid domain"
   ]
  },
  {
   "cell_type": "code",
   "execution_count": 32,
   "id": "a6089ea8-8976-4dcc-a3d2-3ad0ca8c0980",
   "metadata": {},
   "outputs": [
    {
     "data": {
      "text/plain": [
       "{'database': {'database_type': 'fluent-database'},\n",
       " 'fluid': {'air': {'density': {'option': 'constant', 'value': 1.225},\n",
       "   'viscosity': {'option': 'constant', 'value': 1.7894e-05},\n",
       "   'specific_heat': {'option': 'constant', 'value': 1006.43},\n",
       "   'thermal_conductivity': {'option': 'constant', 'value': 0.0242},\n",
       "   'molecular_weight': {'option': 'constant', 'value': 28.966},\n",
       "   'therm_exp_coeff': {'option': 'constant', 'value': 0},\n",
       "   'speed_of_sound': {'option': 'none'}}},\n",
       " 'solid': {'aluminum': {'density': {'option': 'constant', 'value': 2719},\n",
       "   'specific_heat': {'option': 'constant', 'value': 871},\n",
       "   'thermal_conductivity': {'option': 'constant', 'value': 202.4}}}}"
      ]
     },
     "execution_count": 32,
     "metadata": {},
     "output_type": "execute_result"
    }
   ],
   "source": [
    "solver.setup.materials()"
   ]
  },
  {
   "cell_type": "markdown",
   "id": "2075e9d5-6d4e-4490-9a3a-4712abfe45c6",
   "metadata": {},
   "source": [
    "since air is pre-selected, change it to \"Water\""
   ]
  },
  {
   "cell_type": "code",
   "execution_count": 33,
   "id": "d3aabba5-1bbb-4274-b1ea-bb094e5523fc",
   "metadata": {},
   "outputs": [
    {
     "data": {
      "text/plain": [
       "'*the-non-printing-object*'"
      ]
     },
     "execution_count": 33,
     "metadata": {},
     "output_type": "execute_result"
    }
   ],
   "source": [
    "solver.setup.materials.database.copy_by_name(type = 'fluid', name = 'water-liquid')\n",
    "solver.setup.materials.list_materials()"
   ]
  },
  {
   "cell_type": "markdown",
   "id": "859dec54-8d8e-45c9-96f8-86f2488494ff",
   "metadata": {},
   "source": [
    "water has been imported to the fluid list, this can be now assigned to the fluid"
   ]
  },
  {
   "cell_type": "code",
   "execution_count": 34,
   "id": "969338af-dda7-4805-9493-5bd189cfddf8",
   "metadata": {},
   "outputs": [
    {
     "data": {
      "text/plain": [
       "{'solid': {'material': 'water-liquid',\n",
       "  'sources': False,\n",
       "  'fixed': False,\n",
       "  'mrf_motion': False,\n",
       "  'reference_frame_axis_origin': [{'option': 'value', 'value': 0.0},\n",
       "   {'option': 'value', 'value': 0.0},\n",
       "   {'option': 'value', 'value': 0.0}],\n",
       "  'reference_frame_axis_direction': [{'option': 'value', 'value': 0},\n",
       "   {'option': 'value', 'value': 0},\n",
       "   {'option': 'value', 'value': 1}],\n",
       "  'laminar': False,\n",
       "  'porous': False,\n",
       "  'fanzone': False}}"
      ]
     },
     "execution_count": 34,
     "metadata": {},
     "output_type": "execute_result"
    }
   ],
   "source": [
    "solver.setup.cell_zone_conditions.fluid['solid'].material = 'water-liquid'\n",
    "solver.setup.cell_zone_conditions.fluid()"
   ]
  },
  {
   "cell_type": "markdown",
   "id": "92d534b3-7e0c-4a09-b8fc-d6aecc73614c",
   "metadata": {},
   "source": [
    "Setting the boundary conditions"
   ]
  },
  {
   "cell_type": "code",
   "execution_count": 35,
   "id": "e2147def-93da-4359-8300-f4b92e686ff6",
   "metadata": {},
   "outputs": [
    {
     "data": {
      "text/plain": [
       "{'inlet': {'velocity_spec': 'Magnitude, Normal to Boundary',\n",
       "  'frame_of_reference': 'Absolute',\n",
       "  'vmag': {'option': 'value', 'value': 40},\n",
       "  'initial_gauge_pressure': {'option': 'value', 'value': 0},\n",
       "  'ke_spec': 'Intensity and Viscosity Ratio',\n",
       "  'turb_intensity': 0.05,\n",
       "  'turb_viscosity_ratio': 10}}"
      ]
     },
     "execution_count": 35,
     "metadata": {},
     "output_type": "execute_result"
    }
   ],
   "source": [
    "# setting the velocity magnitude as 10 m/s\n",
    "solver.setup.boundary_conditions.velocity_inlet['inlet'].vmag = 40\n",
    "# check, if the velocity magnitude has been changed\n",
    "solver.setup.boundary_conditions.velocity_inlet()"
   ]
  },
  {
   "cell_type": "markdown",
   "id": "57c612e1-41cd-4842-8b94-cf336c8bc71f",
   "metadata": {},
   "source": [
    "Initialize the solution - 'Hybrid Initialization'"
   ]
  },
  {
   "cell_type": "code",
   "execution_count": 36,
   "id": "4b99bcd4-a9f1-4cdd-a58e-1a7f59ea1d2d",
   "metadata": {},
   "outputs": [],
   "source": [
    "solver.solution.initialization.hybrid_initialize()"
   ]
  },
  {
   "cell_type": "markdown",
   "id": "e7076c2c-b812-443d-a9e9-5ef2a9860be2",
   "metadata": {},
   "source": [
    "setting the no of iterations and run calculation"
   ]
  },
  {
   "cell_type": "code",
   "execution_count": 37,
   "id": "3819984c-d8ad-455c-be7c-4a715a1ed911",
   "metadata": {},
   "outputs": [],
   "source": [
    "solver.solution.run_calculation.iter_count = 400\n",
    "solver.solution.run_calculation.iterate()"
   ]
  },
  {
   "cell_type": "markdown",
   "id": "2da30f00-4b07-4e52-a7da-8c6b8d01be18",
   "metadata": {},
   "source": [
    "Save the case and data file to the folder"
   ]
  },
  {
   "cell_type": "code",
   "execution_count": 38,
   "id": "263476b2-9cae-41f3-8dad-acc4601a3a63",
   "metadata": {},
   "outputs": [
    {
     "data": {
      "text/plain": [
       "'*cx-overwrite-prompt?*'"
      ]
     },
     "execution_count": 38,
     "metadata": {},
     "output_type": "execute_result"
    }
   ],
   "source": [
    "solver.file.write(file_type = 'case-data', file_name = \"diffuser_80mm.cas.h5\")"
   ]
  },
  {
   "cell_type": "markdown",
   "id": "1fda7d3e-d2bc-4f6f-b94f-7cdfce05d3c0",
   "metadata": {},
   "source": [
    "**Post-processing**"
   ]
  },
  {
   "cell_type": "markdown",
   "id": "f65434fb-4fa9-494b-9ff8-45c24229af9c",
   "metadata": {},
   "source": [
    "Creating the pressure, velocity and turbulence kinetic energy contour"
   ]
  },
  {
   "cell_type": "code",
   "execution_count": 39,
   "id": "85d02c56-5349-4b01-a3d7-cf083f748470",
   "metadata": {},
   "outputs": [
    {
     "data": {
      "text/plain": [
       "'*cx-overwrite-prompt?*'"
      ]
     },
     "execution_count": 39,
     "metadata": {},
     "output_type": "execute_result"
    }
   ],
   "source": [
    "# creating the contour\n",
    "solver.results.graphics.contour.create(\"velocity_contour\")\n",
    "# filling in the detail which variable to plot\n",
    "solver.results.graphics.contour[\"velocity_contour\"](field = \"velocity-magnitude\", surfaces_list = [\"symmetry_left\"])\n",
    "# displaying it in the console\n",
    "solver.results.graphics.contour[\"velocity_contour\"].display()\n",
    "# scaling it in screen, so that the image can be saved\n",
    "solver.results.graphics.views.auto_scale()\n",
    "# saving the picture\n",
    "solver.results.graphics.picture.save_picture(file_name = \"velocity\")"
   ]
  },
  {
   "cell_type": "code",
   "execution_count": 40,
   "id": "4093ecf6-8682-40de-9914-29a30bff91a0",
   "metadata": {},
   "outputs": [
    {
     "data": {
      "text/plain": [
       "<matplotlib.image.AxesImage at 0x20666c88040>"
      ]
     },
     "execution_count": 40,
     "metadata": {},
     "output_type": "execute_result"
    },
    {
     "data": {
      "image/png": "[encoded data removed]",
      "text/plain": [
       "<Figure size 640x480 with 1 Axes>"
      ]
     },
     "metadata": {},
     "output_type": "display_data"
    }
   ],
   "source": [
    "plt.imshow(image.imread(\"velocity.png\"))"
   ]
  },
  {
   "cell_type": "code",
   "execution_count": 41,
   "id": "096f0da8-58a7-44bf-b627-33c68e8394a2",
   "metadata": {},
   "outputs": [
    {
     "data": {
      "text/plain": [
       "'*cx-overwrite-prompt?*'"
      ]
     },
     "execution_count": 41,
     "metadata": {},
     "output_type": "execute_result"
    }
   ],
   "source": [
    "solver.results.graphics.contour.create(\"pressure_contour\")\n",
    "solver.results.graphics.contour[\"pressure_contour\"](field = \"pressure\", surfaces_list = [\"symmetry_left\"])\n",
    "solver.results.graphics.contour[\"pressure_contour\"].display()\n",
    "solver.results.graphics.views.auto_scale()\n",
    "solver.results.graphics.picture.save_picture(file_name = \"pressure\")"
   ]
  },
  {
   "cell_type": "code",
   "execution_count": null,
   "id": "b88299fc-5309-448e-b2ac-c6782cef906f",
   "metadata": {},
   "outputs": [
    {
     "data": {
      "text/plain": [
       "<matplotlib.image.AxesImage at 0x20669a62950>"
      ]
     },
     "execution_count": 42,
     "metadata": {},
     "output_type": "execute_result"
    }
   ],
   "source": [
    "plt.imshow(image.imread(\"pressure.png\"))"
   ]
  },
  {
   "cell_type": "code",
   "execution_count": null,
   "id": "e75dc857-5d94-4782-9fb4-23cea84415c5",
   "metadata": {},
   "outputs": [],
   "source": [
    "solver.results.graphics.contour.create(\"turbulence-energy_contour\")\n",
    "solver.results.graphics.contour[\"turbulence-energy_contour\"](field = \"turb-kinetic-energy\", surfaces_list = [\"symmetry_left\"])\n",
    "solver.results.graphics.contour[\"turbulence-energy_contour\"].display()\n",
    "solver.results.graphics.views.auto_scale()\n",
    "solver.results.graphics.picture.save_picture(file_name = \"turbulence-kinetic-energy\")"
   ]
  },
  {
   "cell_type": "code",
   "execution_count": null,
   "id": "f9e70d83-a47a-41c7-b67f-31e28fdc92a2",
   "metadata": {},
   "outputs": [],
   "source": [
    "plt.imshow(image.imread(\"turbulence-kinetic-energy.png\"))"
   ]
  },
  {
   "cell_type": "markdown",
   "id": "9f67d08b-03db-492b-9577-4d921a6a87f2",
   "metadata": {},
   "source": [
    "Creating the plot for pressure and wall-shear on top and bottom wall"
   ]
  },
  {
   "cell_type": "code",
   "execution_count": null,
   "id": "1af5f360-6124-4a12-a3bf-a2842cbe1132",
   "metadata": {},
   "outputs": [],
   "source": [
    "solver.results.plot.xy_plot.create(\"wall-shear-stress\")\n",
    "solver.results.plot.xy_plot[\"wall-shear-stress\"](y_axis_function = \"wall-shear\", surfaces_list = [\"wall_lower\",\"wall_upper\"])\n",
    "solver.results.plot.xy_plot[\"wall-shear-stress\"].display()"
   ]
  },
  {
   "cell_type": "code",
   "execution_count": null,
   "id": "d4b6e6c0-1f56-4e7d-8d50-1011fdeafdee",
   "metadata": {},
   "outputs": [],
   "source": [
    "solver.results.graphics.picture.save_picture(file_name = \"wall-shear stress\")\n",
    "plt.imshow(image.imread(\"wall-shear stress.png\"))"
   ]
  },
  {
   "cell_type": "code",
   "execution_count": null,
   "id": "ad901833-e6fe-4889-a9ac-ad288638c834",
   "metadata": {},
   "outputs": [],
   "source": [
    "solver.results.plot.xy_plot.create(\"Pressure-plot\")\n",
    "solver.results.plot.xy_plot[\"Pressure-plot\"](y_axis_function = \"pressure\", surfaces_list = [\"wall_lower\",\"wall_upper\"])\n",
    "solver.results.plot.xy_plot[\"Pressure-plot\"].display()"
   ]
  },
  {
   "cell_type": "code",
   "execution_count": null,
   "id": "b3ae02a7-fd7d-47bb-b2d2-338f84120667",
   "metadata": {},
   "outputs": [],
   "source": [
    "solver.results.graphics.picture.save_picture(file_name = \"Pressure plot\")\n",
    "plt.imshow(image.imread(\"Pressure plot.png\"))"
   ]
  },
  {
   "cell_type": "code",
   "execution_count": null,
   "id": "67c8a267-5b0f-4601-97c5-ebfce14e2297",
   "metadata": {},
   "outputs": [],
   "source": []
  }
 ],
 "metadata": {
  "kernelspec": {
   "display_name": "Python 3 (ipykernel)",
   "language": "python",
   "name": "python3"
  },
  "language_info": {
   "codemirror_mode": {
    "name": "ipython",
    "version": 3
   },
   "file_extension": ".py",
   "mimetype": "text/x-python",
   "name": "python",
   "nbconvert_exporter": "python",
   "pygments_lexer": "ipython3",
   "version": "3.10.11"
  }
 },
 "nbformat": 4,
 "nbformat_minor": 5
}
