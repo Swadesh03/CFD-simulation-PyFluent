{
 "cells": [
  {
   "cell_type": "markdown",
   "id": "b6dbff2b-7696-4913-b1c3-044e2cb0bfe8",
   "metadata": {},
   "source": [
    "The following notebook presents a CFD study of a flow over cylinder at Re - 500, using Watertight meshing and Fluent solver -- using Python scripting in ANSYS PyFluent "
   ]
  },
  {
   "cell_type": "markdown",
   "id": "1aeb18f8-2f4d-404f-8720-a6c4a48192f6",
   "metadata": {},
   "source": [
    "**Importing the required files**"
   ]
  },
  {
   "cell_type": "code",
   "execution_count": 30,
   "id": "cb7bdcf7-5129-4ecd-887a-c2740946c922",
   "metadata": {},
   "outputs": [],
   "source": [
    "import ansys.fluent.core as pyfluent\n",
    "from matplotlib import pyplot as plt\n",
    "from matplotlib import image\n",
    "%matplotlib inline"
   ]
  },
  {
   "cell_type": "markdown",
   "id": "1d3e569a-9865-4ab7-962b-cd4bd5366748",
   "metadata": {},
   "source": [
    "**Starting the meshing session**"
   ]
  },
  {
   "cell_type": "code",
   "execution_count": 31,
   "id": "92df2880-11e3-404f-8ecc-e77c027dd720",
   "metadata": {},
   "outputs": [
    {
     "name": "stderr",
     "output_type": "stream",
     "text": [
      "pyfluent.launcher WARNING: PyFluent Watchdog did not initialize correctly, proceeding without it...\n"
     ]
    }
   ],
   "source": [
    "# Open a meshing session------------------------------\n",
    "meshing_session = pyfluent.launch_fluent(precision = \"double\", processor_count = 4, mode = \"meshing\", show_gui = True)\n",
    "workflow = meshing_session.workflow\n",
    "meshing = meshing_session.meshing"
   ]
  },
  {
   "cell_type": "markdown",
   "id": "7dadfffd-56bc-4d8c-857c-8d7411d839da",
   "metadata": {},
   "source": [
    "Setting the Watertight meshing workflow"
   ]
  },
  {
   "cell_type": "code",
   "execution_count": 32,
   "id": "29c3bca4-e87c-4589-8a04-17ef8caa0567",
   "metadata": {},
   "outputs": [],
   "source": [
    "# The meshing workflow is selected as the \"Watertight Meshing Workflow\"\n",
    "workflow.InitializeWorkflow(WorkflowType = r'Watertight Geometry')\n",
    "# The global scale setting\n",
    "meshing.GlobalSettings.LengthUnit.set_state(r'mm')\n",
    "meshing.GlobalSettings.AreaUnit.set_state(r'mm^2')\n",
    "meshing.GlobalSettings.VolumeUnit.set_state(r'mm^3')"
   ]
  },
  {
   "cell_type": "markdown",
   "id": "32fcd8e0-ba7e-4a46-8557-7d22cbbb01ef",
   "metadata": {},
   "source": [
    "Importing geometry"
   ]
  },
  {
   "cell_type": "code",
   "execution_count": 33,
   "id": "73572c5d-72ad-4456-a7d0-757d13a255c6",
   "metadata": {},
   "outputs": [
    {
     "data": {
      "text/plain": [
       "True"
      ]
     },
     "execution_count": 33,
     "metadata": {},
     "output_type": "execute_result"
    }
   ],
   "source": [
    "workflow.TaskObject['Import Geometry'].Arguments.set_state({r'FileName': r'Project_4_FlowCylinder_Re500.scdoc',})\n",
    "workflow.TaskObject['Import Geometry'].Execute()"
   ]
  },
  {
   "cell_type": "markdown",
   "id": "66bb9507-fc8b-429c-be6d-85023da222db",
   "metadata": {},
   "source": [
    "Local sizing - adding the BOIs in the geometry"
   ]
  },
  {
   "cell_type": "code",
   "execution_count": 34,
   "id": "52ce62aa-edc2-49cb-89d5-abbea0f528d2",
   "metadata": {},
   "outputs": [
    {
     "data": {
      "text/plain": [
       "True"
      ]
     },
     "execution_count": 34,
     "metadata": {},
     "output_type": "execute_result"
    }
   ],
   "source": [
    "#local sizing- setting up Body of Infulence for refining the mesh  ------------------------------------------\n",
    "# 1st BOI\n",
    "workflow.TaskObject['Add Local Sizing'].Arguments.set_state({r'AddChild': r'yes',r'BOIExecution': r'Body Of Influence',r'BOIFaceLabelList': \\\n",
    "                                                             [r'boi_1-solid'],r'BOISize': 0.5,})\n",
    "workflow.TaskObject['Add Local Sizing'].AddChildAndUpdate()   # executing the BOI - 1\n",
    "# 2nd BOI\n",
    "\n",
    "workflow.TaskObject['Add Local Sizing'].Arguments.set_state({r'AddChild': r'yes',r'BOIExecution': r'Body Of Influence',r'BOIFaceLabelList': \\\n",
    "                                                             [r'boi_2-solid'],r'BOISize': 2,})\n",
    "workflow.TaskObject['Add Local Sizing'].AddChildAndUpdate()  # executing the BOI - 2\n",
    "\n",
    "# 3rd BOI\n",
    "\n",
    "workflow.TaskObject['Add Local Sizing'].Arguments.set_state({r'AddChild': r'yes',r'BOIExecution': r'Body Of Influence',r'BOIFaceLabelList': \\\n",
    "                                                             [r'boi_3-solid'],r'BOISize': 4,})\n",
    "workflow.TaskObject['Add Local Sizing'].AddChildAndUpdate()  # executing the BOI - 3\n"
   ]
  },
  {
   "cell_type": "markdown",
   "id": "e4438429-4bba-4913-bdc4-c7c99022a91e",
   "metadata": {},
   "source": [
    "The surface meshing"
   ]
  },
  {
   "cell_type": "code",
   "execution_count": 35,
   "id": "877e7cdc-e26a-4aad-ad05-331350d962bd",
   "metadata": {},
   "outputs": [
    {
     "data": {
      "text/plain": [
       "True"
      ]
     },
     "execution_count": 35,
     "metadata": {},
     "output_type": "execute_result"
    }
   ],
   "source": [
    "# -------Surface mesh --- Cells per gap, Curvature Normal angle, max size, min size ---------------------------------------\n",
    "workflow.TaskObject['Generate the Surface Mesh'].Arguments.set_state({r'CFDSurfaceMeshControls': {r'CellsPerGap': 4,r'CurvatureNormalAngle': \\\n",
    "                                                                                                  10,r'MaxSize': 10, \\\n",
    "                                                                                                  r'MinSize': 4,},})\n",
    "workflow.TaskObject['Generate the Surface Mesh'].Execute()\n"
   ]
  },
  {
   "cell_type": "markdown",
   "id": "b730ff35-19b1-4852-93c4-87f79d66b15f",
   "metadata": {},
   "source": [
    "Describe geometry task"
   ]
  },
  {
   "cell_type": "code",
   "execution_count": 36,
   "id": "0f2fb814-d175-44c4-a496-4efac9f8e75c",
   "metadata": {},
   "outputs": [
    {
     "data": {
      "text/plain": [
       "True"
      ]
     },
     "execution_count": 36,
     "metadata": {},
     "output_type": "execute_result"
    }
   ],
   "source": [
    "workflow.TaskObject['Describe Geometry'].UpdateChildTasks(SetupTypeChanged=False)\n",
    "workflow.TaskObject['Describe Geometry'].Arguments.set_state({r'SetupType': r'The geometry consists of only fluid regions with no voids',})\n",
    "workflow.TaskObject['Describe Geometry'].UpdateChildTasks(SetupTypeChanged=True)\n",
    "workflow.TaskObject['Describe Geometry'].Execute()"
   ]
  },
  {
   "cell_type": "markdown",
   "id": "1dcf4079-daaa-4250-884b-b8a0792c52f0",
   "metadata": {},
   "source": [
    "Update boundaries"
   ]
  },
  {
   "cell_type": "code",
   "execution_count": 37,
   "id": "d147f407-e03f-483c-9023-7e1d3ba8a75d",
   "metadata": {},
   "outputs": [
    {
     "data": {
      "text/plain": [
       "True"
      ]
     },
     "execution_count": 37,
     "metadata": {},
     "output_type": "execute_result"
    }
   ],
   "source": [
    "\n",
    "workflow.TaskObject['Update Boundaries'].Execute()\n",
    "workflow.TaskObject['Update Regions'].Execute()"
   ]
  },
  {
   "cell_type": "markdown",
   "id": "5aff3dc6-7df1-44cc-820c-d1c30a441dd2",
   "metadata": {},
   "source": [
    "Add Boundary layers"
   ]
  },
  {
   "cell_type": "code",
   "execution_count": 38,
   "id": "cd819034-193a-4a7f-825c-216c9ab5db9d",
   "metadata": {},
   "outputs": [
    {
     "data": {
      "text/plain": [
       "True"
      ]
     },
     "execution_count": 38,
     "metadata": {},
     "output_type": "execute_result"
    }
   ],
   "source": [
    "# using last ratio method, changing the number of layers to 5, first height - 0.5 mm, transition ratio - 0.2, other setting default\n",
    "workflow.TaskObject['Add Boundary Layers'].Arguments.set_state({r'FirstHeight': 0.25,r'LocalPrismPreferences': \\\n",
    "                                                                {r'Continuous': r'Stair Step',},r'NumberOfLayers': 10, \\\n",
    "                                                                r'OffsetMethodType': r'last-ratio',r'TransitionRatio': 0.2,})\n",
    "workflow.TaskObject['Add Boundary Layers'].AddChildAndUpdate()\n",
    "\n",
    "# using smooth transition method, changing the number of layers to 5, keeping the other settings ad default\n",
    "#workflow.TaskObject['Add Boundary Layers'].Arguments.set_state({r'LocalPrismPreferences': {r'Continuous': r'Stair Step',},r'NumberOfLayers': 5,})\n",
    "#workflow.TaskObject['Add Boundary Layers'].AddChildAndUpdate()"
   ]
  },
  {
   "cell_type": "markdown",
   "id": "aab93a38-acdd-4ecb-ae32-554789ad48e9",
   "metadata": {},
   "source": [
    "Generate the volume mesh"
   ]
  },
  {
   "cell_type": "code",
   "execution_count": 39,
   "id": "4b57f90c-9710-496a-aab1-8b915e6bdee5",
   "metadata": {},
   "outputs": [
    {
     "data": {
      "text/plain": [
       "True"
      ]
     },
     "execution_count": 39,
     "metadata": {},
     "output_type": "execute_result"
    }
   ],
   "source": [
    "# poly hexcore as volume fill with method, keeping the minimum size default, maximum size as 4 mm\n",
    "workflow.TaskObject['Generate the Volume Mesh'].Arguments.set_state({r'VolumeFill': r'poly-hexcore', \\\n",
    "                                                                     r'VolumeFillControls': {r'HexMaxCellLength': 10, \\\n",
    "                                                                                             r'HexMinCellLength': 4,r'PeelLayers': 2,},})\n",
    "workflow.TaskObject['Generate the Volume Mesh'].Execute()"
   ]
  },
  {
   "cell_type": "code",
   "execution_count": 40,
   "id": "3dd47940-d84f-40e1-bc3a-fc4c12b8a03e",
   "metadata": {},
   "outputs": [],
   "source": [
    "meshing_session.tui.file.write_mesh(\"Project_4_FlowCylinder_Re500\")"
   ]
  },
  {
   "cell_type": "code",
   "execution_count": 41,
   "id": "d81914e8-57ad-4595-913f-00db1ca7ca13",
   "metadata": {},
   "outputs": [],
   "source": [
    "meshing_session.exit()"
   ]
  }
 ],
 "metadata": {
  "kernelspec": {
   "display_name": "Python 3 (ipykernel)",
   "language": "python",
   "name": "python3"
  },
  "language_info": {
   "codemirror_mode": {
    "name": "ipython",
    "version": 3
   },
   "file_extension": ".py",
   "mimetype": "text/x-python",
   "name": "python",
   "nbconvert_exporter": "python",
   "pygments_lexer": "ipython3",
   "version": "3.10.11"
  }
 },
 "nbformat": 4,
 "nbformat_minor": 5
}
