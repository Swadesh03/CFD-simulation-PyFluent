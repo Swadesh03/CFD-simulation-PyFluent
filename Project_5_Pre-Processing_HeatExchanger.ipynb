{
 "cells": [
  {
   "cell_type": "markdown",
   "id": "b6dbff2b-7696-4913-b1c3-044e2cb0bfe8",
   "metadata": {},
   "source": [
    "The following notebook presents a parametric CFD study of a flow inside a heat exchanger, using Watertight meshing and Fluent solver -- using Python scripting in ANSYS PyFluent "
   ]
  },
  {
   "cell_type": "markdown",
   "id": "1aeb18f8-2f4d-404f-8720-a6c4a48192f6",
   "metadata": {},
   "source": [
    "**Importing the required files**"
   ]
  },
  {
   "cell_type": "code",
   "execution_count": 1,
   "id": "cb7bdcf7-5129-4ecd-887a-c2740946c922",
   "metadata": {},
   "outputs": [],
   "source": [
    "import ansys.fluent.core as pyfluent\n",
    "from matplotlib import pyplot as plt\n",
    "from matplotlib import image\n",
    "%matplotlib inline"
   ]
  },
  {
   "cell_type": "markdown",
   "id": "1d3e569a-9865-4ab7-962b-cd4bd5366748",
   "metadata": {},
   "source": [
    "**Starting the meshing session**"
   ]
  },
  {
   "cell_type": "code",
   "execution_count": 2,
   "id": "92df2880-11e3-404f-8ecc-e77c027dd720",
   "metadata": {},
   "outputs": [
    {
     "name": "stderr",
     "output_type": "stream",
     "text": [
      "pyfluent.launcher WARNING: PyFluent Watchdog did not initialize correctly, proceeding without it...\n"
     ]
    }
   ],
   "source": [
    "# Open a meshing session------------------------------\n",
    "meshing_session = pyfluent.launch_fluent(precision = \"double\", processor_count = 4, mode = \"meshing\", show_gui = True)\n",
    "workflow = meshing_session.workflow\n",
    "meshing = meshing_session.meshing"
   ]
  },
  {
   "cell_type": "markdown",
   "id": "7dadfffd-56bc-4d8c-857c-8d7411d839da",
   "metadata": {},
   "source": [
    "Setting the Watertight meshing workflow"
   ]
  },
  {
   "cell_type": "code",
   "execution_count": 3,
   "id": "29c3bca4-e87c-4589-8a04-17ef8caa0567",
   "metadata": {},
   "outputs": [],
   "source": [
    "# The meshing workflow is selected as the \"Watertight Meshing Workflow\"\n",
    "workflow.InitializeWorkflow(WorkflowType = r'Watertight Geometry')\n",
    "# The global scale setting\n",
    "meshing.GlobalSettings.LengthUnit.set_state(r'mm')\n",
    "meshing.GlobalSettings.AreaUnit.set_state(r'mm^2')\n",
    "meshing.GlobalSettings.VolumeUnit.set_state(r'mm^3')"
   ]
  },
  {
   "cell_type": "markdown",
   "id": "32fcd8e0-ba7e-4a46-8557-7d22cbbb01ef",
   "metadata": {},
   "source": [
    "Importing geometry"
   ]
  },
  {
   "cell_type": "code",
   "execution_count": 4,
   "id": "73572c5d-72ad-4456-a7d0-757d13a255c6",
   "metadata": {},
   "outputs": [
    {
     "name": "stdout",
     "output_type": "stream",
     "text": [
      "\n",
      "Importing one geom object per program-controlled and one zone per body ...\n",
      "    D:\\\\softwares\\\\ANSYS Inc\\\\ANSYS Student\\\\v231\\\\commonfiles\\\\CPython\\\\3_7\\\\winx64\\\\Release\\\\python\\\\..\\\\Ansys\\\\TGrid\\\\CADReaders.py started by NOTEBOOK on MSI winx64 on Sun Jan  7 16:20:04 2024\n",
      "    using Python 3.7.13 (remotes/origin/3b89b4a151d5e27a7d119919e370e421549562b8-dirty:3b89b4a1, Sep 23 2) [MSC v.1920 64 bit (AMD64)]\n",
      "    \n",
      "    using Ansys.Meshing.FieldMesher build Nov 23 2022 18:41:14\n",
      "    \n",
      "    running ANSYS TGrid CADToTGridConverter ...\n",
      "    setting up parameters ...\n",
      "    setting up parameters done.\n",
      "    running conversion ...\n",
      "    converting 1 file(s) from Workbench to FLTG using output path 'D:\\\\McGill_MSc Thesis\\\\coursera\\\\ANSYS_pyScript\\\\Week_5_Heat exchanger\\\\FM_MSI_21952/out170466240321952.tgf'\n",
      "    converting file 'Project_5_HeatExchanger.scdoc' (1 of 1) from Workbench to FLTG using output path 'D:\\\\McGill_MSc Thesis\\\\coursera\\\\ANSYS_pyScript\\\\Week_5_Heat exchanger\\\\FM_MSI_21952'\n",
      "    importing data ...\n",
      "    importing meshing model from PartMgr from file 'D:\\\\McGill_MSc Thesis\\\\coursera\\\\ANSYS_pyScript\\\\Week_5_Heat exchanger\\\\Project_5_HeatExchanger.scdoc' ...\n",
      "    setting enclosure and symmetry processing to False\n",
      "    setting transfer named selections to True\n",
      "    setting named selection prefixes to ''\n",
      "    setting mixed import resolution type to 'SolidAndSurface'\n",
      "    setting target application to 'FluentMeshing'\n",
      "    attaching to assembly ...\n",
      "    attaching to assembly done in 49.16 [s]\n",
      "    processing assembly 'D:\\\\McGill_MSc Thesis\\\\coursera\\\\ANSYS_pyScript\\\\Week_5_Heat exchanger\\\\Project_5_HeatExchanger.scdoc' with ID 1 and reference key '<?xml version=\"1.0\" encoding=\"utf-16\"?>\n",
      "    <IdTable xmlns:xsd=\"http://www.w3.org/2001/XMLSchema\" xmlns:xsi=\"http://www.w3.org/2001/XMLSchema-instance\">\n",
      "      <Table>\n",
      "        <Entry>\n",
      "          <Text>&lt;SnippetV1 sctype=\"SpaceClaim.BasicMoniker`1[[SpaceClaim.IEvaluation, Core]], Core\" refId=\"d2988bb5-bb44-4e87-9ab5-4492fde04f2c:2\" /&gt;</Text>\n",
      "          <Id>10000</Id>\n",
      "          <IsExploded>false</IsExploded>\n",
      "        </Entry>\n",
      "      </Table>\n",
      "    </IdTable>'\n",
      "    length unit = [m]\n",
      "    processing part 'Project_5_HeatExchanger' with ID 3\n",
      "    processing named selection 'water_inlet'\n",
      "    processing named selection 'water_outlet'\n",
      "    processing named selection 'air_inlet'\n",
      "    processing named selection 'air_outlet'\n",
      "    processing named selection 'air_walls'\n",
      "    processing data ...\n",
      "    removing named collections of entities ...\n",
      "    removing named collections of entities stopped, no named collections selected.\n",
      "    analyzing feature edges ...\n",
      "    detecting feature edges, feature angle = 40 [deg] ...\n",
      "        Data information\n",
      "            Meshing model\n",
      "                Attributes:\n",
      "                    'LengthUnit': '[mm]'\n",
      "                Entity summary:\n",
      "                    Collection: 5\n",
      "                    Component : 2\n",
      "                    Body      : 3\n",
      "                    Shell     : 3\n",
      "                    Face      : 12\n",
      "                    Loop      : 18\n",
      "                    Edge      : 18\n",
      "                    Vertex    : 12\n",
      "                    Surface   : 12\n",
      "                    Curve     : 18\n",
      "                Tessellation summary:\n",
      "                    Face facets  : 444\n",
      "                    Edge segments: 162\n",
      "                Bounding box:\n",
      "                    (-15, -15.00000000000001, 0) x (15, 15, 500)\n",
      "                Assembly component hierarchy:\n",
      "                    'D:\\\\McGill_MSc Thesis\\\\coursera\\\\ANSYS_pyScript\\\\Week_5_Heat exchanger\\\\Project_5_HeatExchanger.scdoc'\n",
      "                      'Project_5_HeatExchanger'\n",
      "                NamedCollections:\n",
      "                    'water_inlet'\n",
      "                    'water_outlet'\n",
      "                    'air_inlet'\n",
      "                    'air_outlet'\n",
      "                    'air_walls'\n",
      "    \n",
      "    \n",
      "    exporting FLTG data to file 'D:\\\\McGill_MSc Thesis\\\\coursera\\\\ANSYS_pyScript\\\\Week_5_Heat exchanger\\\\FM_MSI_21952\\\\out170466240321952.tgf' ...\n",
      "    writing face-based mesh file 'D:\\\\McGill_MSc Thesis\\\\coursera\\\\ANSYS_pyScript\\\\Week_5_Heat exchanger\\\\FM_MSI_21952\\\\out170466240321952.tgf' ...\n",
      "    ======== Exported Data ========\n",
      "    Entity summary:\n",
      "        Object       : 1\n",
      "        Object region: 8\n",
      "        Zone         : 15\n",
      "    \n",
      "    running conversion done.\n",
      "    running ANSYS TGrid CADToTGridConverter done.\n",
      "    ran ANSYS TGrid CADToTGridConverter in 49.955 [s]\n",
      "\n",
      "Reading \"D:\\McGill_MSc Thesis\\coursera\\ANSYS_pyScript\\Week_5_Heat exchanger\\FM_MSI_21952/out170466240321952.tgf\"...\n",
      "Reading \"D:\\McGill_MSc Thesis\\coursera\\ANSYS_pyScript\\Week_5_Heat exchanger\\FM_MSI_21952/out170466240321952.tgf\"...\n",
      "nodes: 329\n",
      "edges: 162\n",
      "faces: 444\n",
      "cells: 0\n",
      "reading 329 storage data (id 1, type 41, double precision binary).\n",
      "generating pointers...done.\n",
      "extracting boundary entities...\n",
      " 329 boundary nodes.\n",
      " 444 boundary faces.\n",
      " 8 boundary face zones.\n",
      "done.\n",
      "analyzing boundary connectivity...done.\n",
      "\n",
      "---------------- Import of Project_5_HeatExchanger, consisting of one single part/object , complete. \n",
      " \n"
     ]
    },
    {
     "data": {
      "text/plain": [
       "True"
      ]
     },
     "execution_count": 4,
     "metadata": {},
     "output_type": "execute_result"
    }
   ],
   "source": [
    "workflow.TaskObject['Import Geometry'].Arguments.set_state({r'FileName': r'Project_5_HeatExchanger.scdoc',})\n",
    "workflow.TaskObject['Import Geometry'].Execute()"
   ]
  },
  {
   "cell_type": "markdown",
   "id": "66bb9507-fc8b-429c-be6d-85023da222db",
   "metadata": {},
   "source": [
    "Local sizing - adding the Body sizing in the geometry"
   ]
  },
  {
   "cell_type": "markdown",
   "id": "e4438429-4bba-4913-bdc4-c7c99022a91e",
   "metadata": {},
   "source": [
    "The surface meshing"
   ]
  },
  {
   "cell_type": "code",
   "execution_count": 8,
   "id": "877e7cdc-e26a-4aad-ad05-331350d962bd",
   "metadata": {},
   "outputs": [
    {
     "name": "stdout",
     "output_type": "stream",
     "text": [
      "Writing \"D:\\McGill_MSc Thesis\\coursera\\ANSYS_pyScript\\Week_5_Heat exchanger\\FM_MSI_21952\\TaskObject3.msh.h5\" ...\n",
      "writing 1 node zones\n",
      "writing 7 edge zones \n",
      "writing 8 face zones \n",
      "done.\n",
      "Importing one mesh object per program-controlled and one zone per body ...\n",
      "    D:\\\\softwares\\\\ANSYS Inc\\\\ANSYS Student\\\\v231\\\\commonfiles\\\\CPython\\\\3_7\\\\winx64\\\\Release\\\\python\\\\..\\\\Ansys\\\\TGrid\\\\CADReaders.py started by NOTEBOOK on MSI winx64 on Sun Jan  7 16:21:04 2024\n",
      "    using Python 3.7.13 (remotes/origin/3b89b4a151d5e27a7d119919e370e421549562b8-dirty:3b89b4a1, Sep 23 2) [MSC v.1920 64 bit (AMD64)]\n",
      "    \n",
      "    using Ansys.Meshing.FieldMesher build Nov 23 2022 18:41:14\n",
      "    \n",
      "    running ANSYS TGrid CADToTGridConverter ...\n",
      "    setting up parameters ...\n",
      "    setting up parameters done.\n",
      "    running conversion ...\n",
      "    converting 1 file(s) from Workbench to FLTG using output path 'D:\\\\McGill_MSc Thesis\\\\coursera\\\\ANSYS_pyScript\\\\Week_5_Heat exchanger\\\\FM_MSI_21952/out170466246421952.tgf'\n",
      "    converting file 'Project_5_HeatExchanger.scdoc.pmdb' (1 of 1) from Workbench to FLTG using output path 'D:\\\\McGill_MSc Thesis\\\\coursera\\\\ANSYS_pyScript\\\\Week_5_Heat exchanger\\\\FM_MSI_21952'\n",
      "    importing data ...\n",
      "    importing meshing model from PartMgr from file 'D:\\\\McGill_MSc Thesis\\\\coursera\\\\ANSYS_pyScript\\\\Week_5_Heat exchanger\\\\FM_MSI_21952\\\\\\\\Project_5_HeatExchanger.scdoc.pmdb' ...\n",
      "    setting enclosure and symmetry processing to False\n",
      "    setting transfer named selections to True\n",
      "    setting named selection prefixes to ''\n",
      "    setting mixed import resolution type to 'SolidAndSurface'\n",
      "    setting target application to 'FluentMeshing'\n",
      "    initializing part manager from file ...\n",
      "    processing assembly 'D:\\\\McGill_MSc Thesis\\\\coursera\\\\ANSYS_pyScript\\\\Week_5_Heat exchanger\\\\Project_5_HeatExchanger.scdoc' with ID 1 and reference key '<?xml version=\"1.0\" encoding=\"utf-16\"?>\n",
      "    <IdTable xmlns:xsd=\"http://www.w3.org/2001/XMLSchema\" xmlns:xsi=\"http://www.w3.org/2001/XMLSchema-instance\">\n",
      "      <Table>\n",
      "        <Entry>\n",
      "          <Text>&lt;SnippetV1 sctype=\"SpaceClaim.BasicMoniker`1[[SpaceClaim.IEvaluation, Core]], Core\" refId=\"d2988bb5-bb44-4e87-9ab5-4492fde04f2c:2\" /&gt;</Text>\n",
      "          <Id>10000</Id>\n",
      "          <IsExploded>false</IsExploded>\n",
      "        </Entry>\n",
      "      </Table>\n",
      "    </IdTable>'\n",
      "    length unit = [m]\n",
      "    processing part 'Project_5_HeatExchanger' with ID 3\n",
      "    processing named selection 'water_inlet'\n",
      "    processing named selection 'water_outlet'\n",
      "    processing named selection 'air_inlet'\n",
      "    processing named selection 'air_outlet'\n",
      "    processing named selection 'air_walls'\n",
      "    processing data ...\n",
      "    saving size function background grid to file 'D:\\\\McGill_MSc Thesis\\\\coursera\\\\ANSYS_pyScript\\\\Week_5_Heat exchanger\\\\FM_MSI_21952\\\\Project_5_HeatExchanger.sf' ...\n",
      "    writing size function background grid file 'D:\\\\McGill_MSc Thesis\\\\coursera\\\\ANSYS_pyScript\\\\Week_5_Heat exchanger\\\\FM_MSI_21952\\\\Project_5_HeatExchanger.sf' ...\n",
      "    initializing size function background grid done in 0.235 [s]\n",
      "    tessellating 12 faces done in 1.274 [s]\n",
      "    removing named collections of entities ...\n",
      "    removing named collections of entities stopped, no named collections selected.\n",
      "    analyzing feature edges ...\n",
      "    detecting feature edges, feature angle = 40 [deg] ...\n",
      "        Data information\n",
      "            Meshing model\n",
      "                Attributes:\n",
      "                    'LengthUnit': '[mm]'\n",
      "                Entity summary:\n",
      "                    Collection: 5\n",
      "                    Component : 2\n",
      "                    Body      : 3\n",
      "                    Shell     : 3\n",
      "                    Face      : 12\n",
      "                    Loop      : 18\n",
      "                    Edge      : 18\n",
      "                    Vertex    : 12\n",
      "                    Surface   : 12\n",
      "                    Curve     : 18\n",
      "                Tessellation summary:\n",
      "                    Face facets  : 90442\n",
      "                    Edge segments: 1738\n",
      "                Bounding box:\n",
      "                    (-15, -15, 0) x (15, 15, 500)\n",
      "                Assembly component hierarchy:\n",
      "                    'D:\\\\McGill_MSc Thesis\\\\coursera\\\\ANSYS_pyScript\\\\Week_5_Heat exchanger\\\\Project_5_HeatExchanger.scdoc'\n",
      "                      'Project_5_HeatExchanger'\n",
      "                NamedCollections:\n",
      "                    'water_inlet'\n",
      "                    'water_outlet'\n",
      "                    'air_inlet'\n",
      "                    'air_outlet'\n",
      "                    'air_walls'\n",
      "    \n",
      "    \n",
      "    exporting FLTG data to file 'D:\\\\McGill_MSc Thesis\\\\coursera\\\\ANSYS_pyScript\\\\Week_5_Heat exchanger\\\\FM_MSI_21952\\\\out170466246421952.tgf' ...\n",
      "    writing face-based mesh file 'D:\\\\McGill_MSc Thesis\\\\coursera\\\\ANSYS_pyScript\\\\Week_5_Heat exchanger\\\\FM_MSI_21952\\\\out170466246421952.tgf' ...\n",
      "    ======== Exported Data ========\n",
      "    Entity summary:\n",
      "        Object       : 1\n",
      "        Object region: 8\n",
      "        Zone         : 15\n",
      "    \n",
      "    running conversion done.\n",
      "    running ANSYS TGrid CADToTGridConverter done.\n",
      "    ran ANSYS TGrid CADToTGridConverter in 1.746 [s]\n",
      "\n",
      "Reading \"D:\\McGill_MSc Thesis\\coursera\\ANSYS_pyScript\\Week_5_Heat exchanger\\FM_MSI_21952/out170466246421952.tgf\"...\n",
      "Reading \"D:\\McGill_MSc Thesis\\coursera\\ANSYS_pyScript\\Week_5_Heat exchanger\\FM_MSI_21952/out170466246421952.tgf\"...\n",
      "nodes: 46444\n",
      "edges: 1738\n",
      "faces: 90442\n",
      "cells: 0\n",
      "reading 46444 storage data (id 1, type 41, double precision binary).\n",
      "appending mesh...\n",
      "done.\n",
      "generating pointers...done.\n",
      "extracting boundary entities...\n",
      " 46773 boundary nodes.\n",
      " 90886 boundary faces.\n",
      " 16 boundary face zones.\n",
      "done.\n",
      "\n",
      "Reading \"D:\\McGill_MSc Thesis\\coursera\\ANSYS_pyScript\\Week_5_Heat exchanger\\FM_MSI_21952\\Project_5_HeatExchanger.sf\"...\n",
      "Reading \"D:\\McGill_MSc Thesis\\coursera\\ANSYS_pyScript\\Week_5_Heat exchanger\\FM_MSI_21952\\Project_5_HeatExchanger.sf\"...\n",
      "ANSYS(R) TGLib(TM) 3D, revision 18.1.0\n",
      " Read 60343 vertices\n",
      "0 faces marked.\n",
      "\n",
      "    computing regions...done\n",
      "\n",
      "\n",
      "------------------------- --------------------- -------------------- ---------------- ----------\n",
      "                     name skewed-cells (> 0.80)    averaged-skewness maximum-skewness face count\n",
      "------------------------- --------------------- -------------------- ---------------- ----------\n",
      "\n",
      "               pipe-solid                     0          0.022034709       0.47561088      61750\n",
      "        fluid_outer-solid                     0          0.024984493       0.47561088      53440\n",
      "              fluid_inner                     0          0.024075094        0.4597927      34454\n",
      "------------------------- --------------------- -------------------- ---------------- ----------\n",
      "                     name skewed-cells (> 0.80)    averaged-skewness maximum-skewness face count\n",
      "------------------------- --------------------- -------------------- ---------------- ----------\n",
      "\n",
      "  project_5_heatexchanger                     0          0.025330378       0.47561088      90442\n",
      "\n",
      "---------------- After Surface mesh, the model consists of 3 fluid/solid regions and 0 voids.\n",
      "\n",
      "---------------- Surface Meshing of Project_5_HeatExchanger complete in  0.08 minutes, with a maximum skewness of  0.48. \n",
      "\n"
     ]
    },
    {
     "data": {
      "text/plain": [
       "True"
      ]
     },
     "execution_count": 8,
     "metadata": {},
     "output_type": "execute_result"
    }
   ],
   "source": [
    "# -------Surface mesh --- Cells per gap, Curvature Normal angle, max size, min size ---------------------------------------\n",
    "workflow.TaskObject['Generate the Surface Mesh'].Arguments.set_state({r'CFDSurfaceMeshControls': {r'CellsPerGap': 4,r'CurvatureNormalAngle': \\\n",
    "                                                                                                  10,r'MaxSize': 5, \\\n",
    "                                                                                                  r'MinSize': 0.25,},})\n",
    "workflow.TaskObject['Generate the Surface Mesh'].Execute()\n"
   ]
  },
  {
   "cell_type": "markdown",
   "id": "b730ff35-19b1-4852-93c4-87f79d66b15f",
   "metadata": {},
   "source": [
    "Describe geometry task"
   ]
  },
  {
   "cell_type": "code",
   "execution_count": 9,
   "id": "0f2fb814-d175-44c4-a496-4efac9f8e75c",
   "metadata": {},
   "outputs": [
    {
     "name": "stdout",
     "output_type": "stream",
     "text": [
      "\n",
      "---------------- Velocity-inlet zone type was automatically assigned to zones containing the string 'inlet'.\n",
      "\n",
      "---------------- Pressure-outlet zone type was automatically assigned to zones containing the string 'outlet'.\n"
     ]
    },
    {
     "data": {
      "text/plain": [
       "True"
      ]
     },
     "execution_count": 9,
     "metadata": {},
     "output_type": "execute_result"
    }
   ],
   "source": [
    "workflow.TaskObject['Describe Geometry'].UpdateChildTasks(SetupTypeChanged=False)\n",
    "workflow.TaskObject['Describe Geometry'].Arguments.set_state({r'SetupType': r'The geometry consists of both fluid and solid regions and/or voids',})\n",
    "workflow.TaskObject['Describe Geometry'].UpdateChildTasks(SetupTypeChanged=True)\n",
    "workflow.TaskObject['Describe Geometry'].Execute()"
   ]
  },
  {
   "cell_type": "markdown",
   "id": "1dcf4079-daaa-4250-884b-b8a0792c52f0",
   "metadata": {},
   "source": [
    "Update boundaries"
   ]
  },
  {
   "cell_type": "code",
   "execution_count": 10,
   "id": "d147f407-e03f-483c-9023-7e1d3ba8a75d",
   "metadata": {},
   "outputs": [
    {
     "name": "stdout",
     "output_type": "stream",
     "text": [
      "\n",
      "---------------- Boundary Conditions Updated\n"
     ]
    },
    {
     "data": {
      "text/plain": [
       "True"
      ]
     },
     "execution_count": 10,
     "metadata": {},
     "output_type": "execute_result"
    }
   ],
   "source": [
    "workflow.TaskObject['Update Boundaries'].Execute()"
   ]
  },
  {
   "cell_type": "markdown",
   "id": "413cab5f-d596-4768-ad6f-358c5851724d",
   "metadata": {},
   "source": [
    "Update regions"
   ]
  },
  {
   "cell_type": "code",
   "execution_count": 11,
   "id": "1716b2fe-7f1c-40c7-a87a-d07104725a5b",
   "metadata": {},
   "outputs": [],
   "source": [
    "workflow.TaskObject['Update Regions'].Arguments.set_state({r'EstimatedNumberOfFluidRegions': 3,})"
   ]
  },
  {
   "cell_type": "code",
   "execution_count": 12,
   "id": "0469fd27-c884-4701-a824-e0189994880c",
   "metadata": {},
   "outputs": [
    {
     "name": "stdout",
     "output_type": "stream",
     "text": [
      "Writing \"D:\\McGill_MSc Thesis\\coursera\\ANSYS_pyScript\\Week_5_Heat exchanger\\FM_MSI_21952\\TaskObject8.msh.h5\" ...\n",
      "writing 2 node zones\n",
      "writing 14 edge zones \n",
      "writing 16 face zones \n",
      "done.\n",
      "---------------- Region identification of project_5_heatexchanger complete in  0.00 minutes. All Regions are displayed. \n",
      "Illegitimate input at /UpdateRegions; EstimatedNumberOfFluidRegions\n",
      "Illegitimate input at /UpdateRegions; EstimatedNumberOfFluidRegions\n",
      "Illegitimate input at /UpdateRegions; EstimatedNumberOfFluidRegions\n",
      "Illegitimate input at /UpdateRegions; EstimatedNumberOfFluidRegions\n",
      "\n",
      "---------------- Regions Updated\n"
     ]
    },
    {
     "data": {
      "text/plain": [
       "True"
      ]
     },
     "execution_count": 12,
     "metadata": {},
     "output_type": "execute_result"
    }
   ],
   "source": [
    "workflow.TaskObject['Update Regions'].Execute()"
   ]
  },
  {
   "cell_type": "markdown",
   "id": "5aff3dc6-7df1-44cc-820c-d1c30a441dd2",
   "metadata": {},
   "source": [
    "Add Boundary layers"
   ]
  },
  {
   "cell_type": "code",
   "execution_count": 13,
   "id": "cd819034-193a-4a7f-825c-216c9ab5db9d",
   "metadata": {},
   "outputs": [
    {
     "name": "stdout",
     "output_type": "stream",
     "text": [
      "\n",
      "Created Scoped Prism: smooth-transition_1\n",
      "\n",
      "---------------- Inflation control added to project_5_heatexchanger\n"
     ]
    },
    {
     "data": {
      "text/plain": [
       "True"
      ]
     },
     "execution_count": 13,
     "metadata": {},
     "output_type": "execute_result"
    }
   ],
   "source": [
    "# using smooth transition method, changing the number of layers to 5, keeping the other settings ad default\n",
    "workflow.TaskObject['Add Boundary Layers'].Arguments.set_state({r'LocalPrismPreferences': {r'Continuous': r'Stair Step',},r'NumberOfLayers': 5,})\n",
    "workflow.TaskObject['Add Boundary Layers'].AddChildAndUpdate()"
   ]
  },
  {
   "cell_type": "markdown",
   "id": "aab93a38-acdd-4ecb-ae32-554789ad48e9",
   "metadata": {},
   "source": [
    "Generate the volume mesh"
   ]
  },
  {
   "cell_type": "code",
   "execution_count": 15,
   "id": "4b57f90c-9710-496a-aab1-8b915e6bdee5",
   "metadata": {},
   "outputs": [
    {
     "name": "stdout",
     "output_type": "stream",
     "text": [
      "Writing \"D:\\McGill_MSc Thesis\\coursera\\ANSYS_pyScript\\Week_5_Heat exchanger\\FM_MSI_21952\\TaskObject11.msh.h5\" ...\n",
      "writing 2 node zones\n",
      "writing 14 edge zones \n",
      "writing 16 face zones \n",
      "done.\n",
      "checking object \"project_5_heatexchanger\"...\n",
      "    skipping validating regions of mesh object \"project_5_heatexchanger\"...done.\n",
      "auto meshing object project_5_heatexchanger...\n",
      "\n",
      "processing scoped prisms...\n",
      "    starting orientation...done.\n",
      "    setting prism growth...done.\n",
      "done.\n",
      "Identifying Topology...\n",
      "\n",
      "The octree hexcore cells will be refined using local surface mesh sizes and body of influence (boi) size controls, if there are any defined.\n",
      "Generating Prisms...\n",
      "\n",
      "Generating initial mesh...\n",
      ".\n",
      "\n",
      "\n",
      "Refining mesh...\n",
      "\n",
      "Create polyhedra ...\n",
      ".\n",
      "\n",
      ".\n",
      "\n",
      ".\n",
      "\n",
      ".\n",
      "\n",
      ".\n",
      "\n",
      "\n",
      "delete virtual and dead zones.\n",
      "\n",
      "Merging zones...\n",
      "\n",
      "Cleaning up dead entities...\n",
      "\n",
      "\n",
      "Merging Domains...\n",
      "done.\n",
      "\n",
      "Quality Measure has been changed to Orthogonal Quality.\n",
      "                     name       id cells (quality < 0.10)  minimum quality cell count\n",
      "------------------------- -------- ---------------------- ---------------- ----------\n",
      "        fluid_outer-solid      373                      0       0.20226179     161038\n",
      "               pipe-solid      370                      0       0.20080279      32871\n",
      "              fluid_inner       96                      0       0.36200075     169088\n",
      "\n",
      "                     name       id cells (quality < 0.10)  minimum quality cell count\n",
      "------------------------- -------- ---------------------- ---------------- ----------\n",
      "          Overall Summary     none                      0       0.20080279     362997\n",
      "\n",
      "Total Number of Cell Zones : 3\n",
      "\n",
      "[Quality Measure : Orthogonal Quality]\n",
      "\n",
      "---------------- 362997 cells were created in :  0.63 minutes\n",
      "\n",
      "---------------- The mesh has a minimum Orthogonal Quality of:  0.20 \n",
      "\n",
      "---------------- The volume meshing of project_5_heatexchanger is complete.\n",
      "\n"
     ]
    },
    {
     "data": {
      "text/plain": [
       "True"
      ]
     },
     "execution_count": 15,
     "metadata": {},
     "output_type": "execute_result"
    }
   ],
   "source": [
    "# poly hexcore as volume fill with method, keeping the minimum size default, maximum size as 4 mm\n",
    "workflow.TaskObject['Generate the Volume Mesh'].Arguments.set_state({r'VolumeFill': r'poly-hexcore', \\\n",
    "                                                                     r'VolumeFillControls': {r'HexMaxCellLength': 5, \\\n",
    "                                                                                             r'HexMinCellLength': 0.25,r'PeelLayers': 2,},})\n",
    "workflow.TaskObject['Generate the Volume Mesh'].Execute()"
   ]
  },
  {
   "cell_type": "code",
   "execution_count": 16,
   "id": "3dd47940-d84f-40e1-bc3a-fc4c12b8a03e",
   "metadata": {},
   "outputs": [],
   "source": [
    "meshing_session.tui.file.write_mesh(\"Project_5_HeatExchanger\")"
   ]
  },
  {
   "cell_type": "code",
   "execution_count": 17,
   "id": "d81914e8-57ad-4595-913f-00db1ca7ca13",
   "metadata": {},
   "outputs": [
    {
     "name": "stdout",
     "output_type": "stream",
     "text": [
      "selected 16 zone(s).\n",
      "zone id: 27, name: pipe-solid:1, type: wall, count: 1789\n",
      "zone id: 28, name: fluid_outer-solid-pipe-solid, type: wall, count: 15306\n",
      "zone id: 32, name: air_outlet, type: pressure-outlet, count: 3187\n",
      "zone id: 33, name: air_walls, type: wall, count: 9054\n",
      "zone id: 27, name: pipe-solid:1, type: wall, count: 1789\n",
      "zone id: 28, name: fluid_outer-solid-pipe-solid, type: wall, count: 15306\n",
      "zone id: 32, name: air_outlet, type: pressure-outlet, count: 3187\n",
      "zone id: 33, name: air_walls, type: wall, count: 9054\n",
      "zone id: 27, name: pipe-solid:1, type: wall, count: 1789\n",
      "zone id: 28, name: fluid_outer-solid-pipe-solid, type: wall, count: 15306\n",
      "zone id: 32, name: air_outlet, type: pressure-outlet, count: 3187\n",
      "zone id: 33, name: air_walls, type: wall, count: 9054\n",
      "zone id: 27, name: pipe-solid:1, type: wall, count: 1789\n",
      "zone id: 28, name: fluid_outer-solid-pipe-solid, type: wall, count: 15306\n",
      "zone id: 32, name: air_outlet, type: pressure-outlet, count: 3187\n",
      "zone id: 33, name: air_walls, type: wall, count: 9054\n",
      "zone not found.\n",
      "zone id: 33, name: air_walls, type: wall, count: 9054\n",
      "zone not found.\n",
      "\n",
      "Posting ANSYS Product Improvement Program performance data \n",
      "Done.\n",
      "Shutting down Server...\n"
     ]
    }
   ],
   "source": [
    "meshing_session.exit()"
   ]
  }
 ],
 "metadata": {
  "kernelspec": {
   "display_name": "Python 3 (ipykernel)",
   "language": "python",
   "name": "python3"
  },
  "language_info": {
   "codemirror_mode": {
    "name": "ipython",
    "version": 3
   },
   "file_extension": ".py",
   "mimetype": "text/x-python",
   "name": "python",
   "nbconvert_exporter": "python",
   "pygments_lexer": "ipython3",
   "version": "3.10.11"
  }
 },
 "nbformat": 4,
 "nbformat_minor": 5
}
